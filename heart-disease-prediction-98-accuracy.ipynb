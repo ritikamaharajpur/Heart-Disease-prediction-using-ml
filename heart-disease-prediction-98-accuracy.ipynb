{
 "cells": [
  {
   "cell_type": "code",
   "execution_count": 1,
   "id": "33ec085d",
   "metadata": {
    "_cell_guid": "b1076dfc-b9ad-4769-8c92-a6c4dae69d19",
    "_uuid": "8f2839f25d086af736a60e9eeb907d3b93b6e0e5",
    "execution": {
     "iopub.execute_input": "2025-01-13T14:22:46.474223Z",
     "iopub.status.busy": "2025-01-13T14:22:46.473816Z",
     "iopub.status.idle": "2025-01-13T14:22:46.845920Z",
     "shell.execute_reply": "2025-01-13T14:22:46.844645Z"
    },
    "papermill": {
     "duration": 0.378994,
     "end_time": "2025-01-13T14:22:46.847891",
     "exception": false,
     "start_time": "2025-01-13T14:22:46.468897",
     "status": "completed"
    },
    "tags": []
   },
   "outputs": [
    {
     "name": "stdout",
     "output_type": "stream",
     "text": [
      "/kaggle/input/heart-disease-dataset/heart.csv\n"
     ]
    }
   ],
   "source": [
    "# This Python 3 environment comes with many helpful analytics libraries installed\n",
    "# It is defined by the kaggle/python Docker image: https://github.com/kaggle/docker-python\n",
    "# For example, here's several helpful packages to load\n",
    "\n",
    "import numpy as np # linear algebra\n",
    "import pandas as pd # data processing, CSV file I/O (e.g. pd.read_csv)\n",
    "\n",
    "# Input data files are available in the read-only \"../input/\" directory\n",
    "# For example, running this (by clicking run or pressing Shift+Enter) will list all files under the input directory\n",
    "\n",
    "import os\n",
    "for dirname, _, filenames in os.walk('/kaggle/input'):\n",
    "    for filename in filenames:\n",
    "        print(os.path.join(dirname, filename))\n",
    "\n",
    "# You can write up to 20GB to the current directory (/kaggle/working/) that gets preserved as output when you create a version using \"Save & Run All\" \n",
    "# You can also write temporary files to /kaggle/temp/, but they won't be saved outside of the current session"
   ]
  },
  {
   "cell_type": "code",
   "execution_count": 2,
   "id": "f1b85ea2",
   "metadata": {
    "execution": {
     "iopub.execute_input": "2025-01-13T14:22:46.856791Z",
     "iopub.status.busy": "2025-01-13T14:22:46.856336Z",
     "iopub.status.idle": "2025-01-13T14:22:48.441562Z",
     "shell.execute_reply": "2025-01-13T14:22:48.440488Z"
    },
    "papermill": {
     "duration": 1.591377,
     "end_time": "2025-01-13T14:22:48.443341",
     "exception": false,
     "start_time": "2025-01-13T14:22:46.851964",
     "status": "completed"
    },
    "tags": []
   },
   "outputs": [
    {
     "data": {
      "text/plain": [
       "age         0\n",
       "sex         0\n",
       "cp          0\n",
       "trestbps    0\n",
       "chol        0\n",
       "fbs         0\n",
       "restecg     0\n",
       "thalach     0\n",
       "exang       0\n",
       "oldpeak     0\n",
       "slope       0\n",
       "ca          0\n",
       "thal        0\n",
       "target      0\n",
       "dtype: int64"
      ]
     },
     "execution_count": 2,
     "metadata": {},
     "output_type": "execute_result"
    }
   ],
   "source": [
    "import seaborn as sns \n",
    "import matplotlib.pyplot as plt\n",
    "\n",
    "\n",
    "df = pd.read_csv('/kaggle/input/heart-disease-dataset/heart.csv')\n",
    "\n",
    "df.head() \n",
    "df.describe() \n",
    "\n",
    "df.isnull().sum() \n"
   ]
  },
  {
   "cell_type": "code",
   "execution_count": 3,
   "id": "acebbf69",
   "metadata": {
    "execution": {
     "iopub.execute_input": "2025-01-13T14:22:48.451624Z",
     "iopub.status.busy": "2025-01-13T14:22:48.451248Z",
     "iopub.status.idle": "2025-01-13T14:22:48.682478Z",
     "shell.execute_reply": "2025-01-13T14:22:48.681279Z"
    },
    "papermill": {
     "duration": 0.237451,
     "end_time": "2025-01-13T14:22:48.684335",
     "exception": false,
     "start_time": "2025-01-13T14:22:48.446884",
     "status": "completed"
    },
    "tags": []
   },
   "outputs": [
    {
     "data": {
      "image/png": "[encoded data removed]",
      "text/plain": [
       "<Figure size 640x480 with 1 Axes>"
      ]
     },
     "metadata": {},
     "output_type": "display_data"
    }
   ],
   "source": [
    "\n",
    "sns.countplot(x='target', data=df)  \n",
    "plt.title('Heart Disease Distribution')\n",
    "plt.show()"
   ]
  },
  {
   "cell_type": "code",
   "execution_count": 4,
   "id": "37571045",
   "metadata": {
    "execution": {
     "iopub.execute_input": "2025-01-13T14:22:48.693096Z",
     "iopub.status.busy": "2025-01-13T14:22:48.692728Z",
     "iopub.status.idle": "2025-01-13T14:22:48.707203Z",
     "shell.execute_reply": "2025-01-13T14:22:48.706022Z"
    },
    "papermill": {
     "duration": 0.020838,
     "end_time": "2025-01-13T14:22:48.708989",
     "exception": false,
     "start_time": "2025-01-13T14:22:48.688151",
     "status": "completed"
    },
    "tags": []
   },
   "outputs": [
    {
     "data": {
      "text/plain": [
       "Index(['age', 'sex', 'trestbps', 'chol', 'fbs', 'thalach', 'exang', 'oldpeak',\n",
       "       'ca', 'target', 'cp_1', 'cp_2', 'cp_3', 'restecg_1', 'restecg_2',\n",
       "       'slope_1', 'slope_2', 'thal_1', 'thal_2', 'thal_3'],\n",
       "      dtype='object')"
      ]
     },
     "execution_count": 4,
     "metadata": {},
     "output_type": "execute_result"
    }
   ],
   "source": [
    "df.head() \n",
    "\n",
    "df = pd.get_dummies(df, columns=['cp', 'restecg', 'slope', 'thal'], drop_first=True)\n",
    "\n",
    "df.head() \n",
    "df.columns "
   ]
  },
  {
   "cell_type": "code",
   "execution_count": 5,
   "id": "d2fa3c59",
   "metadata": {
    "execution": {
     "iopub.execute_input": "2025-01-13T14:22:48.717674Z",
     "iopub.status.busy": "2025-01-13T14:22:48.717363Z",
     "iopub.status.idle": "2025-01-13T14:22:48.908965Z",
     "shell.execute_reply": "2025-01-13T14:22:48.907963Z"
    },
    "papermill": {
     "duration": 0.197684,
     "end_time": "2025-01-13T14:22:48.910596",
     "exception": false,
     "start_time": "2025-01-13T14:22:48.712912",
     "status": "completed"
    },
    "tags": []
   },
   "outputs": [
    {
     "data": {
      "text/html": [
       "<div>\n",
       "<style scoped>\n",
       "    .dataframe tbody tr th:only-of-type {\n",
       "        vertical-align: middle;\n",
       "    }\n",
       "\n",
       "    .dataframe tbody tr th {\n",
       "        vertical-align: top;\n",
       "    }\n",
       "\n",
       "    .dataframe thead th {\n",
       "        text-align: right;\n",
       "    }\n",
       "</style>\n",
       "<table border=\"1\" class=\"dataframe\">\n",
       "  <thead>\n",
       "    <tr style=\"text-align: right;\">\n",
       "      <th></th>\n",
       "      <th>age</th>\n",
       "      <th>trestbps</th>\n",
       "      <th>chol</th>\n",
       "      <th>thalach</th>\n",
       "      <th>oldpeak</th>\n",
       "    </tr>\n",
       "  </thead>\n",
       "  <tbody>\n",
       "    <tr>\n",
       "      <th>count</th>\n",
       "      <td>1.025000e+03</td>\n",
       "      <td>1.025000e+03</td>\n",
       "      <td>1.025000e+03</td>\n",
       "      <td>1.025000e+03</td>\n",
       "      <td>1.025000e+03</td>\n",
       "    </tr>\n",
       "    <tr>\n",
       "      <th>mean</th>\n",
       "      <td>-3.431402e-16</td>\n",
       "      <td>-7.036106e-16</td>\n",
       "      <td>-3.466062e-18</td>\n",
       "      <td>-4.332578e-16</td>\n",
       "      <td>-2.426243e-16</td>\n",
       "    </tr>\n",
       "    <tr>\n",
       "      <th>std</th>\n",
       "      <td>1.000488e+00</td>\n",
       "      <td>1.000488e+00</td>\n",
       "      <td>1.000488e+00</td>\n",
       "      <td>1.000488e+00</td>\n",
       "      <td>1.000488e+00</td>\n",
       "    </tr>\n",
       "    <tr>\n",
       "      <th>min</th>\n",
       "      <td>-2.804866e+00</td>\n",
       "      <td>-2.148237e+00</td>\n",
       "      <td>-2.327054e+00</td>\n",
       "      <td>-3.397080e+00</td>\n",
       "      <td>-9.123291e-01</td>\n",
       "    </tr>\n",
       "    <tr>\n",
       "      <th>25%</th>\n",
       "      <td>-7.095548e-01</td>\n",
       "      <td>-6.632165e-01</td>\n",
       "      <td>-6.787242e-01</td>\n",
       "      <td>-7.442713e-01</td>\n",
       "      <td>-9.123291e-01</td>\n",
       "    </tr>\n",
       "    <tr>\n",
       "      <th>50%</th>\n",
       "      <td>1.726817e-01</td>\n",
       "      <td>-9.205458e-02</td>\n",
       "      <td>-1.163527e-01</td>\n",
       "      <td>1.255019e-01</td>\n",
       "      <td>-2.311765e-01</td>\n",
       "    </tr>\n",
       "    <tr>\n",
       "      <th>75%</th>\n",
       "      <td>7.240794e-01</td>\n",
       "      <td>4.791073e-01</td>\n",
       "      <td>5.623715e-01</td>\n",
       "      <td>7.343432e-01</td>\n",
       "      <td>6.202642e-01</td>\n",
       "    </tr>\n",
       "    <tr>\n",
       "      <th>max</th>\n",
       "      <td>2.488552e+00</td>\n",
       "      <td>3.906079e+00</td>\n",
       "      <td>6.166694e+00</td>\n",
       "      <td>2.299935e+00</td>\n",
       "      <td>4.366603e+00</td>\n",
       "    </tr>\n",
       "  </tbody>\n",
       "</table>\n",
       "</div>"
      ],
      "text/plain": [
       "                age      trestbps          chol       thalach       oldpeak\n",
       "count  1.025000e+03  1.025000e+03  1.025000e+03  1.025000e+03  1.025000e+03\n",
       "mean  -3.431402e-16 -7.036106e-16 -3.466062e-18 -4.332578e-16 -2.426243e-16\n",
       "std    1.000488e+00  1.000488e+00  1.000488e+00  1.000488e+00  1.000488e+00\n",
       "min   -2.804866e+00 -2.148237e+00 -2.327054e+00 -3.397080e+00 -9.123291e-01\n",
       "25%   -7.095548e-01 -6.632165e-01 -6.787242e-01 -7.442713e-01 -9.123291e-01\n",
       "50%    1.726817e-01 -9.205458e-02 -1.163527e-01  1.255019e-01 -2.311765e-01\n",
       "75%    7.240794e-01  4.791073e-01  5.623715e-01  7.343432e-01  6.202642e-01\n",
       "max    2.488552e+00  3.906079e+00  6.166694e+00  2.299935e+00  4.366603e+00"
      ]
     },
     "execution_count": 5,
     "metadata": {},
     "output_type": "execute_result"
    }
   ],
   "source": [
    "# Normalize/Standardize Numerical Features\n",
    "\n",
    "from sklearn.preprocessing import StandardScaler\n",
    "\n",
    "scaler = StandardScaler() \n",
    "numerical_features = ['age', 'trestbps', 'chol', 'thalach', 'oldpeak']\n",
    "df[numerical_features].head() \n",
    "df[numerical_features].describe()  \n",
    "\n",
    "df[numerical_features] = scaler.fit_transform(df[numerical_features]) \n",
    "\n",
    "df[numerical_features].describe() "
   ]
  },
  {
   "cell_type": "code",
   "execution_count": 6,
   "id": "8dd53723",
   "metadata": {
    "execution": {
     "iopub.execute_input": "2025-01-13T14:22:48.920132Z",
     "iopub.status.busy": "2025-01-13T14:22:48.919783Z",
     "iopub.status.idle": "2025-01-13T14:22:49.033219Z",
     "shell.execute_reply": "2025-01-13T14:22:49.032262Z"
    },
    "papermill": {
     "duration": 0.120327,
     "end_time": "2025-01-13T14:22:49.035178",
     "exception": false,
     "start_time": "2025-01-13T14:22:48.914851",
     "status": "completed"
    },
    "tags": []
   },
   "outputs": [],
   "source": [
    "\n",
    "# Split the Data\n",
    "from sklearn.model_selection import train_test_split\n",
    "X = df.drop('target', axis=1)\n",
    "X.head() \n",
    "\n",
    "y = df['target']\n",
    "y.head(10) \n",
    "\n",
    "X_train, X_test, y_train, y_test = train_test_split(X, y, test_size=0.2, random_state=42) \n"
   ]
  },
  {
   "cell_type": "code",
   "execution_count": 7,
   "id": "4144f706",
   "metadata": {
    "execution": {
     "iopub.execute_input": "2025-01-13T14:22:49.044140Z",
     "iopub.status.busy": "2025-01-13T14:22:49.043825Z",
     "iopub.status.idle": "2025-01-13T14:22:49.047668Z",
     "shell.execute_reply": "2025-01-13T14:22:49.046764Z"
    },
    "papermill": {
     "duration": 0.009991,
     "end_time": "2025-01-13T14:22:49.049228",
     "exception": false,
     "start_time": "2025-01-13T14:22:49.039237",
     "status": "completed"
    },
    "tags": []
   },
   "outputs": [],
   "source": [
    "# Train and Evaluate Models\n",
    "from sklearn.metrics import accuracy_score, classification_report, confusion_matrix "
   ]
  },
  {
   "cell_type": "code",
   "execution_count": 8,
   "id": "a553ff29",
   "metadata": {
    "execution": {
     "iopub.execute_input": "2025-01-13T14:22:49.058377Z",
     "iopub.status.busy": "2025-01-13T14:22:49.058051Z",
     "iopub.status.idle": "2025-01-13T14:22:49.212635Z",
     "shell.execute_reply": "2025-01-13T14:22:49.209954Z"
    },
    "papermill": {
     "duration": 0.161574,
     "end_time": "2025-01-13T14:22:49.214878",
     "exception": false,
     "start_time": "2025-01-13T14:22:49.053304",
     "status": "completed"
    },
    "tags": []
   },
   "outputs": [
    {
     "name": "stdout",
     "output_type": "stream",
     "text": [
      "Accuracy:  0.8195121951219512\n",
      "Confusion Matrix:\n",
      "  [[76 26]\n",
      " [11 92]]\n",
      "Classification Report:\n",
      "                precision    recall  f1-score   support\n",
      "\n",
      "           0       0.87      0.75      0.80       102\n",
      "           1       0.78      0.89      0.83       103\n",
      "\n",
      "    accuracy                           0.82       205\n",
      "   macro avg       0.83      0.82      0.82       205\n",
      "weighted avg       0.83      0.82      0.82       205\n",
      "\n"
     ]
    }
   ],
   "source": [
    "# 1. Logistic Regression\n",
    "\n",
    "from sklearn.linear_model import LogisticRegression\n",
    "\n",
    "model = LogisticRegression()\n",
    "model.fit(X_train, y_train)\n",
    "\n",
    "y_predicted = model.predict(X_test) \n",
    "\n",
    "print('Accuracy: ', accuracy_score(y_test, y_predicted)) \n",
    "print('Confusion Matrix:\\n ', confusion_matrix(y_test, y_predicted))\n",
    "print('Classification Report:\\n ', classification_report(y_test, y_predicted))"
   ]
  },
  {
   "cell_type": "code",
   "execution_count": 9,
   "id": "c30a29c1",
   "metadata": {
    "execution": {
     "iopub.execute_input": "2025-01-13T14:22:49.232082Z",
     "iopub.status.busy": "2025-01-13T14:22:49.231534Z",
     "iopub.status.idle": "2025-01-13T14:22:49.652139Z",
     "shell.execute_reply": "2025-01-13T14:22:49.650877Z"
    },
    "papermill": {
     "duration": 0.431559,
     "end_time": "2025-01-13T14:22:49.654205",
     "exception": false,
     "start_time": "2025-01-13T14:22:49.222646",
     "status": "completed"
    },
    "tags": []
   },
   "outputs": [
    {
     "name": "stdout",
     "output_type": "stream",
     "text": [
      "Accuracy:  0.9853658536585366\n",
      "Confusion Matrix: \n",
      " [[102   0]\n",
      " [  3 100]]\n",
      "Classification Report: \n",
      "               precision    recall  f1-score   support\n",
      "\n",
      "           0       0.97      1.00      0.99       102\n",
      "           1       1.00      0.97      0.99       103\n",
      "\n",
      "    accuracy                           0.99       205\n",
      "   macro avg       0.99      0.99      0.99       205\n",
      "weighted avg       0.99      0.99      0.99       205\n",
      "\n"
     ]
    }
   ],
   "source": [
    "\n",
    "# 2. Gradient Boosting (XGBoost) \n",
    "\n",
    "from xgboost import XGBClassifier\n",
    "model = XGBClassifier(random_state=42)\n",
    "\n",
    "model.fit(X_train, y_train)\n",
    "y_predicted = model.predict(X_test)\n",
    "\n",
    "print('Accuracy: ', accuracy_score(y_test, y_predicted))\n",
    "print('Confusion Matrix: \\n', confusion_matrix(y_test, y_predicted))\n",
    "print('Classification Report: \\n', classification_report(y_test, y_predicted))"
   ]
  },
  {
   "cell_type": "code",
   "execution_count": 10,
   "id": "4cf2b73c",
   "metadata": {
    "execution": {
     "iopub.execute_input": "2025-01-13T14:22:49.664263Z",
     "iopub.status.busy": "2025-01-13T14:22:49.663666Z",
     "iopub.status.idle": "2025-01-13T14:22:50.158494Z",
     "shell.execute_reply": "2025-01-13T14:22:50.157040Z"
    },
    "papermill": {
     "duration": 0.50177,
     "end_time": "2025-01-13T14:22:50.160291",
     "exception": false,
     "start_time": "2025-01-13T14:22:49.658521",
     "status": "completed"
    },
    "tags": []
   },
   "outputs": [
    {
     "name": "stdout",
     "output_type": "stream",
     "text": [
      "Accuracy: 0.9853658536585366\n",
      "Confusion Matrix: \n",
      " [[102   0]\n",
      " [  3 100]]\n",
      "Classification Report:\n",
      "                precision    recall  f1-score   support\n",
      "\n",
      "           0       0.97      1.00      0.99       102\n",
      "           1       1.00      0.97      0.99       103\n",
      "\n",
      "    accuracy                           0.99       205\n",
      "   macro avg       0.99      0.99      0.99       205\n",
      "weighted avg       0.99      0.99      0.99       205\n",
      "\n"
     ]
    }
   ],
   "source": [
    "# 3. Random Forest\n",
    "\n",
    "from sklearn.ensemble import RandomForestClassifier\n",
    "\n",
    "model = RandomForestClassifier( n_estimators=100, max_depth=10, min_samples_split=5, random_state=42)\n",
    "\n",
    "model.fit(X_train, y_train)\n",
    "y_predicted = model.predict(X_test) \n",
    "\n",
    "print('Accuracy:', accuracy_score(y_test, y_predicted) )\n",
    "print('Confusion Matrix: \\n', confusion_matrix(y_test, y_predicted))\n",
    "print('Classification Report:\\n ', classification_report(y_test, y_predicted))\n"
   ]
  },
  {
   "cell_type": "markdown",
   "id": "cc267bbd",
   "metadata": {
    "papermill": {
     "duration": 0.003992,
     "end_time": "2025-01-13T14:22:50.168673",
     "exception": false,
     "start_time": "2025-01-13T14:22:50.164681",
     "status": "completed"
    },
    "tags": []
   },
   "source": [
    "Hey there! 👋\n",
    "\n",
    "If you find any issues or have suggestions for improvement in this notebook, I'd love to hear from you! I'm still learning, so your feedback is incredibly valuable to me. \n",
    "\n",
    "Feel free to leave a comment or reach out. Thanks in advance for your help! 😊"
   ]
  }
 ],
 "metadata": {
  "kaggle": {
   "accelerator": "none",
   "dataSources": [
    {
     "datasetId": 216167,
     "sourceId": 477177,
     "sourceType": "datasetVersion"
    }
   ],
   "dockerImageVersionId": 30822,
   "isGpuEnabled": false,
   "isInternetEnabled": true,
   "language": "python",
   "sourceType": "notebook"
  },
  "kernelspec": {
   "display_name": "Python 3",
   "language": "python",
   "name": "python3"
  },
  "language_info": {
   "codemirror_mode": {
    "name": "ipython",
    "version": 3
   },
   "file_extension": ".py",
   "mimetype": "text/x-python",
   "name": "python",
   "nbconvert_exporter": "python",
   "pygments_lexer": "ipython3",
   "version": "3.10.12"
  },
  "papermill": {
   "default_parameters": {},
   "duration": 6.612875,
   "end_time": "2025-01-13T14:22:50.893273",
   "environment_variables": {},
   "exception": null,
   "input_path": "__notebook__.ipynb",
   "output_path": "__notebook__.ipynb",
   "parameters": {},
   "start_time": "2025-01-13T14:22:44.280398",
   "version": "2.6.0"
  }
 },
 "nbformat": 4,
 "nbformat_minor": 5
}
